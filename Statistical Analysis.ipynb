{
 "cells": [
  {
   "cell_type": "markdown",
   "id": "323f6598-5be8-4e90-b05b-fb67d8b20e55",
   "metadata": {},
   "source": [
    "# Step 2: Statistical Analysis of Cleaned Customer Shopping Data\n",
    "\n",
    "## Introduction\n",
    "\n",
    "This step focuses on performing a statistical analysis of the cleaned customer shopping dataset. The goal is to understand the central tendency and variability of key numerical variables, as well as the most common values for categorical variables. These insights will help identify patterns in customer demographics, purchasing behavior, and pricing.\n",
    "\n",
    "### Objectives\n",
    "\n",
    "1. **Central Tendency**:\n",
    "   - Calculate the mean, median, and mode for numerical variables (`age`, `quantity`, and `price`).\n",
    "   - Identify the most common categories (`gender` and `category`).\n",
    "\n",
    "2. **Variability**:\n",
    "   - Calculate variance and standard deviation for numerical variables to understand data dispersion.\n",
    "\n",
    "3. **Interpretation**:\n",
    "   - Analyze the results to highlight key trends and distributions in the dataset.\n",
    "\n",
    "---"
   ]
  },
  {
   "cell_type": "code",
   "execution_count": 2,
   "id": "fb986fd6-a1bc-43ba-a7aa-ebec9b67e8fa",
   "metadata": {},
   "outputs": [
    {
     "name": "stdout",
     "output_type": "stream",
     "text": [
      "  invoice_no customer_id  gender  age  category  quantity    price  \\\n",
      "0    I138884     C241288  Female   28  Clothing         5  1500.40   \n",
      "1    I317333     C111565    Male   21     Shoes         3  1800.51   \n",
      "2    I127801     C266599    Male   20  Clothing         1   300.08   \n",
      "3    I337046     C189076  Female   53     Books         4    60.60   \n",
      "4    I227836     C657758  Female   28  Clothing         5  1500.40   \n",
      "\n",
      "  payment_method invoice_date   shopping_mall  \n",
      "0    Credit Card   2022-08-05          Kanyon  \n",
      "1     Debit Card   2021-12-12  Forum Istanbul  \n",
      "2           Cash   2021-11-09       Metrocity  \n",
      "3           Cash   2021-10-24          Kanyon  \n",
      "4    Credit Card   2022-05-24  Forum Istanbul  \n"
     ]
    }
   ],
   "source": [
    "import pandas as pd\n",
    "import numpy as np\n",
    "df = pd.read_csv(r\"C:\\Users\\Zana\\Desktop\\portfolio_projects\\project_1\\cleaned_customer_shopping_data.csv\")\n",
    "print(df.head())"
   ]
  },
  {
   "cell_type": "code",
   "execution_count": 3,
   "id": "10efedc9-c579-49aa-a3f1-c4a4266f0e2f",
   "metadata": {},
   "outputs": [
    {
     "data": {
      "text/plain": [
       "(43.430813380915566, 2.929177300308155, 528.1295189181749)"
      ]
     },
     "execution_count": 3,
     "metadata": {},
     "output_type": "execute_result"
    }
   ],
   "source": [
    "# Calculate the mean for numerical columns\n",
    "mean_age = df['age'].mean()\n",
    "mean_quantity = df['quantity'].mean()\n",
    "mean_price = df['price'].mean()\n",
    "\n",
    "mean_age, mean_quantity, mean_price"
   ]
  },
  {
   "cell_type": "code",
   "execution_count": 4,
   "id": "0896e06c-d9e1-4c04-b31f-4aac881409f7",
   "metadata": {},
   "outputs": [
    {
     "data": {
      "text/plain": [
       "(43.0, 3.0, 203.3)"
      ]
     },
     "execution_count": 4,
     "metadata": {},
     "output_type": "execute_result"
    }
   ],
   "source": [
    "# Calculate the median for numerical columns\n",
    "median_age = df['age'].median()\n",
    "median_quantity = df['quantity'].median()\n",
    "median_price = df['price'].median()\n",
    "\n",
    "median_age, median_quantity, median_price"
   ]
  },
  {
   "cell_type": "code",
   "execution_count": 5,
   "id": "0f6cbdc1-c9ce-4286-9973-4dd9447c9e57",
   "metadata": {},
   "outputs": [
    {
     "data": {
      "text/plain": [
       "('Female', 'Clothing', 600.16)"
      ]
     },
     "execution_count": 5,
     "metadata": {},
     "output_type": "execute_result"
    }
   ],
   "source": [
    "# Calculate the mode for categorical and numerical columns\n",
    "mode_gender = df['gender'].mode()[0]\n",
    "mode_category = df['category'].mode()[0]\n",
    "mode_price = df['price'].mode()[0]\n",
    "\n",
    "mode_gender, mode_category, mode_price"
   ]
  },
  {
   "cell_type": "code",
   "execution_count": 6,
   "id": "88dec8d2-2a26-4509-bf1f-34cbe44bba52",
   "metadata": {},
   "outputs": [
    {
     "data": {
      "text/plain": [
       "(224.89135271120188, 1.959593546514539, 377248.2948068393)"
      ]
     },
     "execution_count": 6,
     "metadata": {},
     "output_type": "execute_result"
    }
   ],
   "source": [
    "# Calculate the variance for numerical columns\n",
    "variance_age = df['age'].var()\n",
    "variance_quantity = df['quantity'].var()\n",
    "variance_price = df['price'].var()\n",
    "\n",
    "variance_age, variance_quantity, variance_price"
   ]
  },
  {
   "cell_type": "code",
   "execution_count": 7,
   "id": "517e0076-4b97-4a6c-bf10-f924a274cdd5",
   "metadata": {},
   "outputs": [
    {
     "data": {
      "text/plain": [
       "(14.996377986407314, 1.399854830514414, 614.2054174352741)"
      ]
     },
     "execution_count": 7,
     "metadata": {},
     "output_type": "execute_result"
    }
   ],
   "source": [
    "# Calculate the standard deviation for numerical columns\n",
    "std_age = df['age'].std()\n",
    "std_quantity = df['quantity'].std()\n",
    "std_price = df['price'].std()\n",
    "\n",
    "std_age, std_quantity, std_price"
   ]
  },
  {
   "cell_type": "markdown",
   "id": "0235f7b1-02aa-4fe8-afb7-28fceba2b317",
   "metadata": {},
   "source": [
    "## Key Results\n",
    "\n",
    "### **Summary Statistics**\n",
    "\n",
    "#### 1. Central Tendency:\n",
    "- **Mean**:\n",
    "  - Age: **43.43**\n",
    "  - Quantity: **2.93**\n",
    "  - Price: **528.13**\n",
    "- **Median**:\n",
    "  - Age: **43.0**\n",
    "  - Quantity: **3.0**\n",
    "  - Price: **203.30**\n",
    "- **Mode**:\n",
    "  - Gender: **Female**\n",
    "  - Category: **Clothing**\n",
    "  - Price: **600.16**\n",
    "\n",
    "#### 2. Variability:\n",
    "- **Variance**:\n",
    "  - Age: **224.89**\n",
    "  - Quantity: **1.95**\n",
    "  - Price: **377,248.29**\n",
    "- **Standard Deviation**:\n",
    "  - Age: **14.99**\n",
    "  - Quantity: **1.40**\n",
    "  - Price: **614.20**\n",
    "\n",
    "---\n",
    "\n",
    "### **Interpretation**\n",
    "\n",
    "1. **Age**:\n",
    "   - The mean and median age are both around 43, suggesting a balanced distribution. \n",
    "   - The standard deviation of **14.99** indicates moderate variability in customer age.\n",
    "\n",
    "2. **Quantity**:\n",
    "   - The mean and median are close to 3, showing consistency in the number of items purchased.\n",
    "   - A standard deviation of **1.40** reflects limited spread in purchase quantities.\n",
    "\n",
    "3. **Price**:\n",
    "   - A significant difference between the mean (**528.13**) and median (**203.30**) highlights skewness, likely caused by high-value purchases.\n",
    "   - The high variance (**377,248.29**) and standard deviation (**614.20**) indicate wide variability in item prices.\n",
    "\n",
    "4. **Categorical Insights**:\n",
    "   - The most common customer gender is **Female**.\n",
    "   - The most frequent shopping category is **Clothing**.\n",
    "\n",
    "---\n",
    "\n",
    "This analysis provides a foundational understanding of customer demographics and purchasing behavior, setting the stage for more advanced exploratory and predictive analytics."
   ]
  },
  {
   "cell_type": "code",
   "execution_count": null,
   "id": "fe066567-7177-4e16-9c43-c556a42ad2a5",
   "metadata": {},
   "outputs": [],
   "source": []
  }
 ],
 "metadata": {
  "kernelspec": {
   "display_name": "Python 3 (ipykernel)",
   "language": "python",
   "name": "python3"
  },
  "language_info": {
   "codemirror_mode": {
    "name": "ipython",
    "version": 3
   },
   "file_extension": ".py",
   "mimetype": "text/x-python",
   "name": "python",
   "nbconvert_exporter": "python",
   "pygments_lexer": "ipython3",
   "version": "3.12.5"
  }
 },
 "nbformat": 4,
 "nbformat_minor": 5
}
